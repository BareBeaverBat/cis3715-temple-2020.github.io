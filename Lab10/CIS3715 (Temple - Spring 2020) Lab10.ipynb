{
 "cells": [
  {
   "cell_type": "markdown",
   "metadata": {},
   "source": [
    "# Lab 10: Dimensionality Reduction\n",
    "\n",
    "In this lab, you will learn gain more experience with ranks and dimensionality reduction and learn how to use it in data science.\n",
    "\n",
    "## Lab 10.A: SVD Tutorial with Questions (25% of the lab grade)\n",
    "\n",
    "Let us start by importing two libraries, numpy and matplotlib. "
   ]
  },
  {
   "cell_type": "code",
   "execution_count": 1,
   "metadata": {},
   "outputs": [],
   "source": [
    "import numpy as np\n",
    "import pandas as pd \n",
    "import matplotlib.pyplot as plt\n",
    "%matplotlib inline"
   ]
  },
  {
   "cell_type": "markdown",
   "metadata": {},
   "source": [
    "First, we will learn how to create matrices of any dimension that have a specified rank. To create a rank-1 matrix $A_{nxm}$, it is sufficient to define two vectors, $u_{[nx1]}$ and $v_{[mx1]}$ and find their *outer product*, $A = u \\cdot v^T$."
   ]
  },
  {
   "cell_type": "code",
   "execution_count": 2,
   "metadata": {},
   "outputs": [
    {
     "name": "stdout",
     "output_type": "stream",
     "text": [
      "vector u:  \n",
      "[[1]\n",
      " [1]\n",
      " [1]\n",
      " [1]\n",
      " [1]]\n",
      "vector v:   \n",
      "[[1]\n",
      " [2]\n",
      " [3]\n",
      " [4]]\n",
      "matrix A:   \n",
      "[[1 2 3 4]\n",
      " [1 2 3 4]\n",
      " [1 2 3 4]\n",
      " [1 2 3 4]\n",
      " [1 2 3 4]]\n",
      "rank of matrix A:   \n",
      "1\n",
      "vector u:  \n",
      "[[1]\n",
      " [2]\n",
      " [3]\n",
      " [4]\n",
      " [5]]\n",
      "vector v:   \n",
      "[[1]\n",
      " [2]\n",
      " [3]\n",
      " [4]]\n",
      "matrix A:   \n",
      "[[ 1  2  3  4]\n",
      " [ 2  4  6  8]\n",
      " [ 3  6  9 12]\n",
      " [ 4  8 12 16]\n",
      " [ 5 10 15 20]]\n",
      "rank of matrix A:   \n",
      "1\n",
      "size of A:\n",
      "(5, 4)\n",
      "type of objects u and A:\n",
      "<class 'numpy.ndarray'> <class 'numpy.ndarray'>\n"
     ]
    }
   ],
   "source": [
    "# A simple rank-1 matrix of dimension 5x4\n",
    "u = np.transpose([[1,1,1,1,1]])\n",
    "print('vector u:  ')\n",
    "print(u)\n",
    "v = np.transpose([[1,2,3,4]])\n",
    "print('vector v:   ')\n",
    "print(v)\n",
    "A = np.dot(u,np.transpose(v))\n",
    "print('matrix A:   ')\n",
    "print(A)\n",
    "print('rank of matrix A:   ')\n",
    "print(np.linalg.matrix_rank(A)) \n",
    "\n",
    "# A more complicated rank-1 matrix of dimension 5x4\n",
    "u = np.transpose([[1,2,3,4,5]])\n",
    "print('vector u:  ')\n",
    "print(u)\n",
    "v = np.transpose([[1,2,3,4]])\n",
    "print('vector v:   ')\n",
    "print(v)\n",
    "A = np.dot(u,np.transpose(v))\n",
    "print('matrix A:   ')\n",
    "print(A)\n",
    "\n",
    "print('rank of matrix A:   ')\n",
    "print(np.linalg.matrix_rank(A))\n",
    "print('size of A:')\n",
    "print(np.shape(A))\n",
    "print('type of objects u and A:')\n",
    "print(type(u), type(A))"
   ]
  },
  {
   "cell_type": "markdown",
   "metadata": {},
   "source": [
    "To generate a rank-2 matrix $A_{nxm}$, it is sufficient to define two pairs of vectors $(u_1,v_1)$ and $(u_2,v_2)$, where length of $u_1$ and $u_2$ is $n$ and length of $v_1$ and $v_2$ is $m$, calculate their *outer products* and add them up, $A = u_1 \\cdot v_1^T + u_2 \\cdot v_2^T$. "
   ]
  },
  {
   "cell_type": "code",
   "execution_count": 3,
   "metadata": {},
   "outputs": [
    {
     "name": "stdout",
     "output_type": "stream",
     "text": [
      "vector u1:  \n",
      "[[1]\n",
      " [1]\n",
      " [1]\n",
      " [1]\n",
      " [1]]\n",
      "vector u2:  \n",
      "[[1]\n",
      " [2]\n",
      " [1]\n",
      " [2]\n",
      " [1]]\n",
      "vector v1:   \n",
      "[[1]\n",
      " [0]\n",
      " [2]]\n",
      "vector v2:   \n",
      "[[0]\n",
      " [1]\n",
      " [1]]\n",
      "matrix A:   \n",
      "[[1 1 3]\n",
      " [1 2 4]\n",
      " [1 1 3]\n",
      " [1 2 4]\n",
      " [1 1 3]]\n",
      "rank of matrix A:   \n",
      "2\n"
     ]
    }
   ],
   "source": [
    "# A simple rank-2 matrix of dimension 5x4\n",
    "u1 = np.transpose([[1,1,1,1,1]])\n",
    "u2 = np.transpose([[1,2,1,2,1]])\n",
    "print('vector u1:  ')\n",
    "print(u1)\n",
    "print('vector u2:  ')\n",
    "print(u2)\n",
    "v1 = np.transpose([[1,0,2]])\n",
    "v2 = np.transpose([[0,1,1]])\n",
    "print('vector v1:   ')\n",
    "print(v1)\n",
    "print('vector v2:   ')\n",
    "print(v2)\n",
    "A = np.dot(u1,np.transpose(v1)) + np.dot(u2,np.transpose(v2))\n",
    "print('matrix A:   ')\n",
    "print(A)\n",
    "print('rank of matrix A:   ')\n",
    "print(np.linalg.matrix_rank(A))"
   ]
  },
  {
   "cell_type": "markdown",
   "metadata": {},
   "source": [
    "A more compact way to do exactly the same is to create a matrix $U$ by concatenating vectors $u_1$ and $u_2$ and matrix $V$ by concatenating vectors $v_1$ and $v_2$, as $U = [u_1 u_2]$ and $V = [v_1 v_2]$   "
   ]
  },
  {
   "cell_type": "code",
   "execution_count": 4,
   "metadata": {},
   "outputs": [
    {
     "name": "stdout",
     "output_type": "stream",
     "text": [
      "[[1 1]\n",
      " [1 2]\n",
      " [1 1]\n",
      " [1 2]\n",
      " [1 1]]\n",
      "[[1 0]\n",
      " [0 1]\n",
      " [2 1]]\n",
      "matrix A:   \n",
      "[[1 1 3]\n",
      " [1 2 4]\n",
      " [1 1 3]\n",
      " [1 2 4]\n",
      " [1 1 3]]\n",
      "rank of matrix A:   \n",
      "2\n"
     ]
    }
   ],
   "source": [
    "# An alternative way of creating a rank-2 matrix\n",
    "U = np.concatenate((u1,u2), axis = 1)\n",
    "print(U)\n",
    "V = np.concatenate((v1,v2), axis = 1)\n",
    "print(V)\n",
    "A = np.dot(U,np.transpose(V))\n",
    "print('matrix A:   ')\n",
    "print(A)\n",
    "print('rank of matrix A:   ')\n",
    "print(np.linalg.matrix_rank(A))"
   ]
  },
  {
   "cell_type": "markdown",
   "metadata": {},
   "source": [
    "**Question 1**. Explain why the previous 2 ways of creating the rank-2 matrix end up in exactly the same result. (*Note*: it is very important to understand why, so thake some time to think about it. It is acceptable to work out your explanation on a piece of paper and submit a photo of it as pdf file)\n",
    "\n",
    "    See separately-submitted pdf file of explanation\n",
    "\n",
    "**Question 2**. Write a piece of code that generates a rank-3 matrix of dimension 6x5"
   ]
  },
  {
   "cell_type": "code",
   "execution_count": 5,
   "outputs": [
    {
     "name": "stdout",
     "output_type": "stream",
     "text": [
      "[[ 85  12  26  25  48]\n",
      " [ 53  19  32  40  35]\n",
      " [ 97  22  41  45  59]\n",
      " [125  71 109 102 118]\n",
      " [ 94  21  39  37  60]\n",
      " [ 96  32  53  34  79]]\n",
      "rank of matrix A:   \n",
      "3\n"
     ]
    }
   ],
   "source": [
    "U= [[8, 3, 0],\n",
    "    [5, 1, 3],\n",
    "    [9, 3, 2],\n",
    "    [6, 9, 7],\n",
    "    [8, 4, 1],\n",
    "    [5, 8, 0]]\n",
    "V= [[8, 7, 2],\n",
    "    [0, 4, 5],\n",
    "    [1, 6, 7],\n",
    "    [2, 3, 9],\n",
    "    [3, 8, 4]]\n",
    "\n",
    "A= np.dot(U, np.transpose(V))\n",
    "print(A)\n",
    "print('rank of matrix A:   ')\n",
    "print(np.linalg.matrix_rank(A))\n"
   ],
   "metadata": {
    "collapsed": false,
    "pycharm": {
     "name": "#%% \n"
    }
   }
  },
  {
   "cell_type": "markdown",
   "metadata": {},
   "source": [
    "Here is another way to quickly generate a large low-rank matrix. "
   ]
  },
  {
   "cell_type": "code",
   "execution_count": 6,
   "metadata": {},
   "outputs": [],
   "source": [
    "A = np.dot(np.transpose([[1,1,1,1,1],[1,2,1,2,1]]),np.random.rand(2,100))"
   ]
  },
  {
   "cell_type": "markdown",
   "metadata": {},
   "source": [
    "**Question 3**. \n",
    "- What is the size of matrix A?\n",
    "- What does the command `np.random.rand(2,100)` do?\n",
    "- What is the rank of A? Why?"
   ]
  },
  {
   "cell_type": "markdown",
   "source": [
    "A has dimensions 5x100 (5 rows & 100 columns).\n",
    "\n",
    "That command generates a 2x100 matrix with randomly generated entries.\n",
    "\n",
    "A has rank 2 because any column of A is equal to a linear combination of the two columns of the left 5x2 matrix (in that matrix multiplication)\n",
    "and any row of A is equal to a linear combination of the two rows of that right 2x100 random matrix (in that matrix multiplication).\n",
    "\n",
    "\n"
   ],
   "metadata": {
    "collapsed": false,
    "pycharm": {
     "name": "#%% md\n"
    }
   }
  },
  {
   "cell_type": "markdown",
   "metadata": {},
   "source": [
    "The rank of a zero matrix is always zero."
   ]
  },
  {
   "cell_type": "code",
   "execution_count": 7,
   "metadata": {},
   "outputs": [
    {
     "name": "stdout",
     "output_type": "stream",
     "text": [
      "[[0. 0. 0. 0.]\n",
      " [0. 0. 0. 0.]\n",
      " [0. 0. 0. 0.]\n",
      " [0. 0. 0. 0.]\n",
      " [0. 0. 0. 0.]\n",
      " [0. 0. 0. 0.]\n",
      " [0. 0. 0. 0.]\n",
      " [0. 0. 0. 0.]\n",
      " [0. 0. 0. 0.]\n",
      " [0. 0. 0. 0.]\n",
      " [0. 0. 0. 0.]\n",
      " [0. 0. 0. 0.]\n",
      " [0. 0. 0. 0.]\n",
      " [0. 0. 0. 0.]\n",
      " [0. 0. 0. 0.]\n",
      " [0. 0. 0. 0.]\n",
      " [0. 0. 0. 0.]\n",
      " [0. 0. 0. 0.]\n",
      " [0. 0. 0. 0.]\n",
      " [0. 0. 0. 0.]]\n",
      "0\n"
     ]
    }
   ],
   "source": [
    "A = np.zeros((20,4))\n",
    "print(A)\n",
    "print(np.linalg.matrix_rank(A))"
   ]
  },
  {
   "cell_type": "markdown",
   "metadata": {},
   "source": [
    "Let us now load Temple T data set and draw a scatter plot. "
   ]
  },
  {
   "cell_type": "code",
   "execution_count": 8,
   "metadata": {},
   "outputs": [
    {
     "name": "stdout",
     "output_type": "stream",
     "text": [
      "[[-0.49806202  0.40064976]\n",
      " [-0.49806202  0.39731642]\n",
      " [-0.49806202  0.39398309]\n",
      " ...\n",
      " [ 0.49806202  0.05398309]\n",
      " [ 0.49806202  0.05064976]\n",
      " [ 0.49806202  0.04731642]]\n",
      "The dimensions of A are:  (28226, 2)\n"
     ]
    },
    {
     "data": {
      "text/plain": "<Figure size 432x288 with 1 Axes>",
      "image/png": "[encoded data removed]"
     },
     "metadata": {
      "needs_background": "light"
     },
     "output_type": "display_data"
    }
   ],
   "source": [
    "A = np.loadtxt('d_temple.csv', delimiter=\",\",dtype='float')\n",
    "print(A)\n",
    "print('The dimensions of A are: ' , np.shape(A))\n",
    "plt.scatter(A[:,0],A[:,1],color='red');\n",
    "plt.axis('equal');"
   ]
  },
  {
   "cell_type": "markdown",
   "metadata": {},
   "source": [
    "Let us see the effect of some transformations of A."
   ]
  },
  {
   "cell_type": "code",
   "execution_count": 9,
   "metadata": {},
   "outputs": [
    {
     "name": "stdout",
     "output_type": "stream",
     "text": [
      "[[0.27011978 0.45571963]\n",
      " [0.13568458 0.12239818]]\n"
     ]
    },
    {
     "data": {
      "text/plain": "<Figure size 432x288 with 1 Axes>",
      "image/png": "[encoded data removed]"
     },
     "metadata": {
      "needs_background": "light"
     },
     "output_type": "display_data"
    }
   ],
   "source": [
    "# Generate a random \"projection\" matrix\n",
    "T = np.random.rand(2,2)\n",
    "print(T)\n",
    "# Multiply A with R\n",
    "A2 = np.dot(A,T)\n",
    "plt.scatter(A2[:,0],A2[:,1],color='red');\n",
    "plt.axis('equal');"
   ]
  },
  {
   "cell_type": "code",
   "execution_count": 10,
   "metadata": {},
   "outputs": [
    {
     "name": "stdout",
     "output_type": "stream",
     "text": [
      "[[1, 0], [0, 3]]\n"
     ]
    },
    {
     "data": {
      "text/plain": "<Figure size 432x288 with 1 Axes>",
      "image/png": "[encoded data removed]"
     },
     "metadata": {
      "needs_background": "light"
     },
     "output_type": "display_data"
    }
   ],
   "source": [
    "# Generate a \"scaling\" matrix\n",
    "T = [[1,0],[0,3]]\n",
    "print(T)\n",
    "# Multiply A with R\n",
    "A2 = np.dot(A,T)\n",
    "plt.scatter(A2[:,0],A2[:,1],color='red');\n",
    "plt.axis('equal');"
   ]
  },
  {
   "cell_type": "code",
   "execution_count": 11,
   "metadata": {},
   "outputs": [
    {
     "name": "stdout",
     "output_type": "stream",
     "text": [
      "[[0.4535961214255773, 0.8912073600614354], [-0.8912073600614354, 0.4535961214255773]]\n"
     ]
    },
    {
     "data": {
      "text/plain": "<Figure size 432x288 with 1 Axes>",
      "image/png": "[encoded data removed]"
     },
     "metadata": {
      "needs_background": "light"
     },
     "output_type": "display_data"
    }
   ],
   "source": [
    "# Generate a \"rotation\" matrix\n",
    "angle = 1.1\n",
    "T = [[np.cos(angle),np.sin(angle)],[-np.sin(angle),np.cos(angle)]]\n",
    "print(T)\n",
    "# Multiply A with R\n",
    "A2 = np.dot(A,T)\n",
    "plt.scatter(A2[:,0],A2[:,1],color='red');\n",
    "plt.axis('equal');"
   ]
  },
  {
   "cell_type": "markdown",
   "metadata": {},
   "source": [
    "**Question 4**. Create a letter T that is 2 times wider than its original version and then rotated by 145 degrees counterclock-wise."
   ]
  },
  {
   "cell_type": "code",
   "execution_count": 19,
   "outputs": [
    {
     "name": "stdout",
     "output_type": "stream",
     "text": [
      "[[-0.8191520442889919, 0.5735764363510459], [-0.5735764363510459, -0.8191520442889919]]\n",
      "[[2, 0], [0, 2]]\n"
     ]
    },
    {
     "data": {
      "text/plain": "<Figure size 432x288 with 1 Axes>",
      "image/png": "[encoded data removed]"
     },
     "metadata": {
      "needs_background": "light"
     },
     "output_type": "display_data"
    }
   ],
   "source": [
    "# Generate a \"rotation\" matrix\n",
    "angle = 145.0/180*np.pi\n",
    "size_mult = 2\n",
    "R = [[np.cos(angle),np.sin(angle)],[-np.sin(angle),np.cos(angle)]]\n",
    "T= [[size_mult, 0], [0, size_mult]]\n",
    "print(R)\n",
    "print(T)\n",
    "# Multiply A with R\n",
    "A2 = np.dot(A,R)\n",
    "A2 = np.dot(A2, T)\n",
    "plt.scatter(A2[:,0],A2[:,1],color='red');\n",
    "plt.axis('equal');"
   ],
   "metadata": {
    "collapsed": false,
    "pycharm": {
     "name": "#%%\n"
    }
   }
  },
  {
   "cell_type": "markdown",
   "metadata": {},
   "source": [
    "Let us now create a rank-2 large matrix out of Temple data, which has 100 attributes (columns)."
   ]
  },
  {
   "cell_type": "code",
   "execution_count": 20,
   "metadata": {},
   "outputs": [
    {
     "name": "stdout",
     "output_type": "stream",
     "text": [
      "(28226, 100)\n"
     ]
    },
    {
     "data": {
      "text/plain": "<Figure size 432x432 with 16 Axes>",
      "image/png": "[encoded data removed]"
     },
     "metadata": {
      "needs_background": "light"
     },
     "output_type": "display_data"
    }
   ],
   "source": [
    "T = np.random.rand(2,100)\n",
    "Abig = np.dot(A, T)\n",
    "print(np.shape(Abig))\n",
    "# to plot a scatterplot of the first 4 columns... it will take a minute...\n",
    "\n",
    "pd.plotting.scatter_matrix(pd.DataFrame(Abig[:,1:5]), alpha=0.2, figsize=(6, 6));"
   ]
  },
  {
   "cell_type": "markdown",
   "metadata": {},
   "source": [
    "**Question 5**. What is the rank of `Abig` and why?"
   ]
  },
  {
   "cell_type": "markdown",
   "source": [
    "Abig has rank 2 because any column of Abig can be defined as a linear combination of the two column vectors of A\n",
    "and any row of Abig can be defined as a linear combination of the two row vectors of T."
   ],
   "metadata": {
    "collapsed": false,
    "pycharm": {
     "name": "#%% md\n"
    }
   }
  },
  {
   "cell_type": "markdown",
   "source": [
    "Let us perform SVD on matrix `Abig`."
   ],
   "metadata": {
    "collapsed": false,
    "pycharm": {
     "name": "#%% md\n"
    }
   }
  },
  {
   "cell_type": "code",
   "execution_count": null,
   "metadata": {},
   "outputs": [],
   "source": [
    "# SVD\n",
    "U,s,V = np.linalg.svd(Abig,full_matrices=0)\n",
    "print(U.shape, s.shape, V.shape)\n",
    "print('the first 10 singular values:', s[0:10])"
   ]
  },
  {
   "cell_type": "markdown",
   "metadata": {},
   "source": [
    "Let us find a rank-2 approximation of `Abig`"
   ]
  },
  {
   "cell_type": "code",
   "execution_count": null,
   "metadata": {},
   "outputs": [],
   "source": [
    "# Find rank-2 aproximation\n",
    "k = 2\n",
    "Ak = np.dot(U[:,0:k],np.dot(np.diag(s)[0:k,0:k], V[0:k,:]))\n",
    "print('Norm of Abig:  ', np.linalg.norm(Abig, ord=2))\n",
    "print('First 10 singular values: ',  s[0:10])\n",
    "print('Norm of difference Abig-Ak = ', np.linalg.norm(Abig - Ak, ord=2))\n"
   ]
  },
  {
   "cell_type": "markdown",
   "metadata": {},
   "source": [
    "**Question 6**.\n",
    "- Find the Frobenius norm of the difference `Abig - Ak`\n",
    "- Using SVD find the best rank-1 approximation of `Abig`. What is the 2 norm and Frobenius norm of the difference? Discuss.\n",
    "- Using SVD find the best find rank-3 approximation of `Abig`. What is the 2 norm and Frobenius norm of the difference? Discuss."
   ]
  },
  {
   "cell_type": "markdown",
   "metadata": {},
   "source": [
    "Let us visualize the scatter-plot of the first two columns of `U` (the first two left singular vectors)"
   ]
  },
  {
   "cell_type": "code",
   "execution_count": null,
   "metadata": {},
   "outputs": [],
   "source": [
    "plt.scatter(U[:,0],U[:,1],color='red');"
   ]
  },
  {
   "cell_type": "markdown",
   "metadata": {},
   "source": [
    "Perfect:  the first two columns of `U` are sufficient to reconstruct letter T!\n",
    "\n",
    "Let us generate a noisy version of `Abig`"
   ]
  },
  {
   "cell_type": "code",
   "execution_count": null,
   "metadata": {},
   "outputs": [],
   "source": [
    "Abig_noise = Abig + np.random.randn(28226,100)*0.5 "
   ]
  },
  {
   "cell_type": "markdown",
   "metadata": {},
   "source": [
    "**Question 7**. \n",
    "- Plot the scatterplot of the first 5 columns of `Abig_noise`. Discuss what you see.\n",
    "- Perform SVD on `Abig_noise`. What are the first 10 singular values?\n",
    "- Find the rank-2 approximation of this `Abig_noise`. What is the norm of the difference?\n",
    "- Plot the scatterplot of the first two columns of `U`. Discuss what you see and why."
   ]
  },
  {
   "cell_type": "markdown",
   "metadata": {},
   "source": [
    "## Lab 10.B: Apply dimensionality reduction on real data (75% of the lab grade)\n",
    "\n",
    "In this par tof the lab you will be studying 2 real-life data sets: *Iris* and *Newsgroups*.\n",
    "\n",
    "### Newsgoups data analysis\n",
    "\n",
    "Download `documents.csv`, `newsgroup.csv`, `groupnames.csv`, `wordlist.csv` to your local folder. This data set is about 16,242 news articles. Each article is represented as a bag-of-word vector containing counts of 100 words from a dictionary. This is saved in `documents`. The dictionary words are represented in the `wordlist`. Each document belongs to one of the 4 types of articles, listed in `froupnames`. We know the assignment of each document to one of those groups based on `newsgroup` values."
   ]
  },
  {
   "cell_type": "code",
   "execution_count": null,
   "metadata": {},
   "outputs": [],
   "source": [
    "wordlist = np.loadtxt('wordlist.csv', delimiter=\",\",dtype='str')\n",
    "documents = np.loadtxt('documents.csv', delimiter=\",\",dtype='int')\n",
    "documents = np.transpose(documents)\n",
    "newsgroup = np.loadtxt('newsgroup.csv', delimiter=\",\",dtype='int')\n",
    "groupnames = np.loadtxt('groupnames.csv', delimiter=\",\",dtype='str')\n"
   ]
  },
  {
   "cell_type": "markdown",
   "metadata": {},
   "source": [
    "**Question 8**. \n",
    "- find the counts of each of the 100 words and plot the bar plot of the counts. Which words are the most popular?\n",
    "- find the counts of the 4 types of articles in the documents. Which type of article is the most popular?\n",
    "\n",
    "Since the `documents` matrix is huge, we cannot do too much to further explore it. That is why we will try with the SVD.\n",
    "\n",
    "**Question 9**.\n",
    "- what is the rank of `documents`?\n",
    "- perform SVD of documents\n",
    "- list the first 10 singular values. Plot all 100 singular values. What can we conclude with the respect to low-rank approximation of the matrix?\n",
    "- let us plot the scatterplot of the first 2 rows of `V`. Use plt.text method to plot the name of each dot (use `wordlist` values) above each dot. Discuss what you see.\n",
    "- let us plot the scatterplot of the first 2 columns of `U`. Since `U` is to big, you can randomly select 1000 rows to plot. Use 4 colors to render each dot by its group name. Discuss what you see.\n",
    "\n",
    "The following lines of code will be useful for answering Question 9. Consider reusing them in your study:"
   ]
  },
  {
   "cell_type": "code",
   "execution_count": null,
   "metadata": {},
   "outputs": [],
   "source": [
    "U,s,V=np.linalg.svd(documents,full_matrices=0)\n",
    "for x,y,text in zip(V[0]+0.5,V[1]+0.5,wordlist):\n",
    "    plt.text(x,y,text,fontsize=14)\n",
    "plt.figure()\n",
    "\n",
    "sc=plt.scatter(U[:,0],U[:,1],30,newsgroup,facecolors='none')\n",
    "plt.colorbar(sc)\n",
    "plt.show()\n",
    "\n",
    "r=np.random.randint(0,16242,100)\n",
    "plt.figure()\n",
    "for x,y,groupname in zip(U[r,0]+0.5,U[r,1]+0.5,groupnames[newsgroup[r]-1]):\n",
    "    plt.text(x,y,groupname,fontsize=14)\n",
    "\n",
    "c = ['red','green','blue','cyan']\n",
    "plt.figure()\n",
    "for i in range(1,5):\n",
    "    q=np.where(newsgroup==i)[0]\n",
    "    r1 = np.random.randint(0,len(q),50)\n",
    "    r=q[r1]\n",
    "    for x,y,groupname in zip(U[r,0]+0.5,U[r,1]+0.5,groupnames[newsgroup[r]-1]):\n",
    "        plt.text(x,y,groupname,color=c[i-1],fontsize=14)\n",
    "    print(i)"
   ]
  },
  {
   "cell_type": "markdown",
   "metadata": {},
   "source": [
    "**Question 10**. \n",
    "- transform the document data set by subtracting mean of each column from each corresponding column (scaling to mean zero). Then, repeat question 9. Which results do you like more and why?\n",
    "\n",
    "**Extra credit (15%)**. \n",
    "- Instead of SVD, let us explore a few other approaches for dimensionality. \n",
    "- t-sne is a famous method for dimensionality reduction. Read documentation about sklearn.manifold.TSNE and convert the newsgroup data into 2 dimentions. Plot a scatteplot of the resulting data set and discuss how it differs from the SVD result.\n",
    "\n",
    "**Extra credit (15%)**\n",
    "- adopt code from https://scikit-learn.org/stable/auto_examples/applications/plot_topics_extraction_with_nmf_lda.html#sphx-glr-auto-examples-applications-plot-topics-extraction-with-nmf-lda-py to our newsgroups data. NNMF and LDA are \"topic analysis\" algorithms related to SVD. Discuss in few sentences how you can you interpret the results."
   ]
  },
  {
   "cell_type": "markdown",
   "metadata": {},
   "source": [
    "### Wine Data Analysis\n",
    "Download 'Wine' dataset from sklearn (sklearn.datasets.load_wine). This is a famous data set for benchmarking of data science algorithms. Please take a moment to learn about it.\n",
    "\n",
    "**Question 11**.\n",
    "- How large is the data set?\n",
    "- Plot the scatter plot for different pairs of attributes. Do you see any correlations? What are the correlations between the attributes?\n",
    "- Plot the scatterplot between the first two attributes, but this type use different color for different values of `y`. Can you clearly discriminate between different colors on the scatterplot? Plot the same type of the scatter plot, but this time  using different pairs of attributes. Which pair of attributes separates the colors the best?\n",
    "- What is the rank of `d`?\n",
    "- Apply SVD on matrix `d`. \n",
    "- Look at the singular values. What do they tell us about the possibility to approximate `d` with a lower rank matrix?\n",
    "- Plot the scatter plot of the first 2 columns of the `U` matrix (the left singular matrix). Is it easier or more dificult to distinguish between different values of `y`? Please discuss your findings."
   ]
  }
 ],
 "metadata": {
  "anaconda-cloud": {},
  "kernelspec": {
   "display_name": "Python 3",
   "language": "python",
   "name": "python3"
  },
  "language_info": {
   "codemirror_mode": {
    "name": "ipython",
    "version": 3
   },
   "file_extension": ".py",
   "mimetype": "text/x-python",
   "name": "python",
   "nbconvert_exporter": "python",
   "pygments_lexer": "ipython3",
   "version": "3.5.4"
  }
 },
 "nbformat": 4,
 "nbformat_minor": 1
}