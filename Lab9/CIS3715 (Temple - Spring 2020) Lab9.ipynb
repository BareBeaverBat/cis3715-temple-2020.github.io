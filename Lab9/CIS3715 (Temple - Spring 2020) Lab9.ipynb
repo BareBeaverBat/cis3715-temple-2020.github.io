{
 "cells": [
  {
   "cell_type": "markdown",
   "metadata": {},
   "source": [
    "# Lab 9: Clustering \n",
    "\n",
    "In this lab, you will gain more experience with clustering. In particular, you will learn how to use two of the most popular clustering algorithms: Hierarchical Clustering and K-Means Clustering. Then, you will be asked to apply this knowledge on a document data set.\n",
    "\n",
    "## Lab 9.A: Clustering Tutorial with Questions (50% of grade)\n",
    "\n",
    "Let us start by importing the needed libraries. We will use sklearn library, which implements many of the most popular data science algorithms. We will be using this library often for the rest of this course. Please, take a moment to look at the sklearn documentation at: http://scikit-learn.org/stable/."
   ]
  },
  {
   "cell_type": "code",
   "execution_count": null,
   "metadata": {},
   "outputs": [],
   "source": [
    "import numpy as np\n",
    "import matplotlib\n",
    "import matplotlib.pyplot as plt\n",
    "from sklearn import datasets\n",
    "from sklearn.cluster import KMeans\n",
    "from scipy.cluster import hierarchy\n",
    "from pandas import crosstab\n",
    "from pandas.plotting import scatter_matrix\n",
    "import pandas as pd\n",
    "%matplotlib inline"
   ]
  },
  {
   "cell_type": "markdown",
   "metadata": {},
   "source": [
    "Let us load the Iris data set and plot a scatter plot of the 2nd and 3rd attributes."
   ]
  },
  {
   "cell_type": "code",
   "execution_count": null,
   "metadata": {},
   "outputs": [],
   "source": [
    "iris = datasets.load_iris()\n",
    "d = iris.data\n",
    "y = iris.target\n",
    "\n",
    "plt.scatter(d[:,1],d[:,2],facecolors='none',color='blue')\n",
    "plt.axis('equal');"
   ]
  },
  {
   "cell_type": "markdown",
   "metadata": {},
   "source": [
    "## Hierarchical Clustering\n",
    "Let us run the **hierarchical clustering** on the 2 columns of Iris. We will use only the first 20 rows. We'll call this new data set `dnew`."
   ]
  },
  {
   "cell_type": "code",
   "execution_count": null,
   "metadata": {},
   "outputs": [],
   "source": [
    "A=range(0,20)\n",
    "dnew = d[A,1:3]\n",
    "# Build a dendrogram using single-linkage clustering and Euclidean distance\n",
    "Z = hierarchy.linkage(dnew,method = 'single', metric = 'euclidean')\n",
    "# Picks 2 clusters\n",
    "cl = hierarchy.fcluster(Z, 2, criterion='maxclust')"
   ]
  },
  {
   "cell_type": "markdown",
   "metadata": {},
   "source": [
    "Let us now plot the dendrogram. "
   ]
  },
  {
   "cell_type": "code",
   "execution_count": null,
   "metadata": {},
   "outputs": [],
   "source": [
    "plt.figure(figsize = (15,4))\n",
    "hierarchy.dendrogram(Z);"
   ]
  },
  {
   "cell_type": "markdown",
   "metadata": {},
   "source": [
    "And, let us see the outcome of clustering"
   ]
  },
  {
   "cell_type": "code",
   "execution_count": null,
   "metadata": {},
   "outputs": [],
   "source": [
    "plt.figure()\n",
    "colors=['red','blue']\n",
    "plt.scatter(dnew[A,0],dnew[A,1],c=cl, cmap=matplotlib.colors.ListedColormap(colors),s=100,facecolors='none')\n",
    "for i in A:\n",
    "    plt.text(dnew[i,0],dnew[i,1]+0.01,s=str(i),size=10)"
   ]
  },
  {
   "cell_type": "markdown",
   "metadata": {},
   "source": [
    "**Question 1**: Let us play with the clustering options\n",
    "- Make 3 clusters. Discuss the result\n",
    "- Use several different methods, other than 'single'. Try 'average' and one more of your choice. Discuss the result.\n",
    "- Use a metric other than 'Eucliedean'. Discuss the result.\n",
    "\n",
    "**Question 2**. Run the clustering on the whole Iris data set, using only 2nd and 3rd columns. Plot the results. Try to figure out which is the best number of clusters.\n",
    "\n",
    "Each of the 150 flowers in Iris data set is labeled as one of 3 types of Irises. This information is in your variable `y`. Let us look at the cross-tabulation between the found clusters and the type of a flower:"
   ]
  },
  {
   "cell_type": "code",
   "execution_count": null,
   "metadata": {},
   "outputs": [],
   "source": [
    "dnew = d[:,1:3]\n",
    "# Build a dendrogram using single-linkage clustering and Euclidean distance\n",
    "Z = hierarchy.linkage(dnew,method = 'average', metric = 'euclidean')\n",
    "# Picks 2 clusters\n",
    "cl = hierarchy.fcluster(Z, 3, criterion='maxclust')\n",
    "print(crosstab(cl, y, rownames=['cl'], colnames=['y']))"
   ]
  },
  {
   "cell_type": "markdown",
   "metadata": {},
   "source": [
    "**Question 3**. Discuss the cross-tabulation result. Do you think clustering did a good job?\n",
    "\n",
    "**Question 4**. Repeat the clustering, but this time find 3 clusters. Chack the cross-tabulate and discuss if you are happy with the result. Try with 4 and 5 clusters.\n",
    "\n",
    "**Question 5**. Cross-tabulate results are useful for figuring out the quality of clustering. You task is to propose a formula that uses the result of cross-tabulation to come up with a single number that measures the success of clustering. Please jsutify why you selected the formula.\n",
    "\n",
    "**Question 6**. Repeat the clustering on the original Iris data, which has 4 attributes. Plot the scatter plot of the resulting clustering (remember, you can pick to see only 2 of the dimensions). Alternativelly, do SVD to project your data to 2 dimensionas and again plot the scatter plot. Take a look at the cross-tabulation. Try different clustering parameters and try to find the best clustering. Decide which choice of the parameters gives you the best results. Report on your findings with justifications for your conclusion."
   ]
  },
  {
   "cell_type": "markdown",
   "metadata": {},
   "source": [
    "## K-Means Clustering\n",
    "\n",
    "K-means clustering is another clustering algorithm (we will cover it in class tomorrow). It still receives a data set as an input, as well as the desired number of clusters, and outputs the assignment of data points to clusters.\n",
    "\n",
    "Let us illustrate how to use k-means on the iris data."
   ]
  },
  {
   "cell_type": "code",
   "execution_count": null,
   "metadata": {},
   "outputs": [],
   "source": [
    "# the following command results in creating of 2 clusters of `dnew` data\n",
    "kmeans = KMeans(n_clusters=5, random_state=0).fit(dnew)\n",
    "# cl are the assignments of points to one of the 5 clusters\n",
    "cl=kmeans.labels_\n",
    "# cen are the centers of the 5 clusters, obtained by finding the average of all examples assigned to the clusters\n",
    "cen=kmeans.cluster_centers_\n",
    "# plot the results\n",
    "colors=['red','green','blue','purple','yellow']\n",
    "plt.figure()\n",
    "plt.scatter(dnew[:,0],dnew[:,1],c=cl, cmap=matplotlib.colors.ListedColormap(colors),s=100,facecolors='none')\n",
    "plt.scatter(cen[:,0],cen[:,1],s=130, marker=\"^\")\n",
    "plt.axis('equal')\n",
    "\n",
    "# cross-tabulation with the flower types\n",
    "print(crosstab(cl, y, rownames=['cl'], colnames=['y']))\n"
   ]
  },
  {
   "cell_type": "markdown",
   "metadata": {},
   "source": [
    "**Question 7**. Discuss on the quality of outcome of k-means clustering\n",
    "\n",
    "**Question 8**. Repeat k-means clustering, but this time change the nnumber of clusters to 3. Discuss the results. Compare the results with the results of hierarchical clustering from **Question 4**.\n",
    "\n",
    "**Question 9**. Repeat k-means clustering on the whole Iris data set, the same as you did in **Question 6**. Discuss your results and compare them to the hierarchical clustering results."
   ]
  },
  {
   "cell_type": "markdown",
   "metadata": {},
   "source": [
    "## Lab 9.B Document Clustering (50% of grade)\n",
    "\n",
    "In this part of the lab assignment, you will apply your clustering knowledge on the Newsgroup data. The following is a list of questions.\n",
    "\n",
    "1. Select $N = 100$ random documents and their types from the newsgroup data. Use Google search to figure out how to do it in Python. The reason we are doing this is that hierrchical clustering can be very slow on large data sets.\n",
    "\n",
    "2. Find 3 clusters using deafult (single-link, Eucliedan distance) hierarchical clustering. Use cross-tabulation to measure the quality of clustering.\n",
    "\n",
    "3. Repeat step 2, by trying to find a better choice of parameters for hierarchical clustering. Try the Jaccard or cosine distance instead of Eucliedean. Report on your findings\n",
    "\n",
    "4. Repeat step 3, but this type use k-means clustering. Compare with the results from step 3.\n",
    "\n",
    "5. Instead of $N = 100$, select $N= 200, 500, 1000, 2000, 5000$ random documents. Set number of clusters to 5. Apply hierarchical and k-means clustering on such data and measure time. Discuss how does the time scale with $N$. For k-means clustering, discuss how do the clusters centers change as the data size increases -- do you see some qualitative improvements in the quality of clustering?"
   ]
  },
  {
   "cell_type": "markdown",
   "metadata": {},
   "source": [
    "### Newsgoups data\n",
    "\n",
    "Download `documents.csv`, `newsgroup.csv`, `groupnames.csv`, `wordlist.csv` to your local folder. This data set is about 16,242 news articles. Each article is represented as a bag-of-word vector containing counts of 100 words from a dictionary. This is saved in `documents`. The dictionary words are represented in the `wordlist`. Each document belongs to one of the 4 types of articles, listed in `groupnames`. We know the assignment of each document to one of those groups based on `newsgroup` values."
   ]
  },
  {
   "cell_type": "code",
   "execution_count": null,
   "metadata": {},
   "outputs": [],
   "source": [
    "wordlist = np.loadtxt('wordlist.csv', delimiter=\",\",dtype='str')\n",
    "documents = np.loadtxt('documents.csv', delimiter=\",\",dtype='int')\n",
    "documents = np.transpose(documents)\n",
    "newsgroup = np.loadtxt('newsgroup.csv', delimiter=\",\",dtype='int')\n",
    "groupnames = np.loadtxt('groupnames.csv', delimiter=\",\",dtype='str')"
   ]
  },
  {
   "cell_type": "code",
   "execution_count": null,
   "metadata": {},
   "outputs": [],
   "source": [
    "print(wordlist.shape)\n",
    "print(documents.shape)\n",
    "print(groupnames)\n",
    "print(newsgroup.shape)"
   ]
  },
  {
   "cell_type": "code",
   "execution_count": null,
   "metadata": {},
   "outputs": [],
   "source": []
  }
 ],
 "metadata": {
  "anaconda-cloud": {},
  "kernelspec": {
   "display_name": "Python 3",
   "language": "python",
   "name": "python3"
  },
  "language_info": {
   "codemirror_mode": {
    "name": "ipython",
    "version": 3
   },
   "file_extension": ".py",
   "mimetype": "text/x-python",
   "name": "python",
   "nbconvert_exporter": "python",
   "pygments_lexer": "ipython3",
   "version": "3.7.4"
  }
 },
 "nbformat": 4,
 "nbformat_minor": 1
}
