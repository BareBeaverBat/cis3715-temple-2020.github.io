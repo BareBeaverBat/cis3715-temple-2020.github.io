{
 "cells": [
  {
   "cell_type": "markdown",
   "metadata": {},
   "source": [
    "# Exploratory Data Analysis (EDA)\n",
    "\n",
    "**What is EDA**? Once a dataset is loaded, the first step is to learn something about it. If the dataset is small, we can often study it by directly inspecting the table (e.g., using Excel). If the dataset is large, manual inspection of data elements is time consuming and it might be dificult to make sense of it. In this case, it is a good idea to use data visualization tools to explore the original data or some of its properties (often called \"statistics\"). There are many ways to visualize a dataset and the process of getting acquanted with the data is called the Exploratory Data Analysis (EDA). \n",
    "\n",
    "**Types of datasets**.\n",
    "There are many types of datasets and this influences how we think about the data, how we visualize it, and how we make sense of it. The most common types of datasets that we will encounter are:\n",
    "- *tabular* (dataset is represented as a 2d array / spredsheet, like a spreadsheet in Excel)\n",
    " - *numerical* (if all the values in the table are numerical, the table can be treated as a matrix -- many data science tools only work on numeric data)\n",
    " - *mixed type* (different columns might be of different types; some can be numeric, some can be text, some can be references to objects)\n",
    "- *relational* (consisting of multiple tables, like in databases)\n",
    "- *temporal* (a value or values that change in time, e.g., daily temperatures during 2016 in Philadelphia; it could also be multiple time series, e.g., daily temperatures, humidity, wind speed in Philadelphia) \n",
    "- *spatial* (a value or values that change over space, e.g., current temperatures in multiple cities or over the whole U.S.; data could also be spatio-temporal, like daily temperatures, humidity, and wind over the U.S. during 2016)\n",
    "- *network* (dataset is represented as a graph, where nodes and edges can have their own properties and values, e.g., social network data with people as nodes and their friendships as edges)\n",
    "- *unstructured* (datasets that do not belong to any of the above categories, such as one or a collection of html documents; typically, unstructured datasets need to be converted to one of the structured formats before they could be studied by data science tools)\n",
    "\n",
    "**Tabular data**\n",
    "Standard terminology:\n",
    "- rows, also referred to as examples, data points\n",
    "- columns, also refered to as attributes, features, variables\n",
    "- $X$ denotes a table, $X_{ij}$ denotes the value in the i-th row and j-th column\n",
    "- Size of $X$ refers to the number of rows $N$ and number of columns $M$\n",
    "\n",
    "Types of attributes:\n",
    "- *numeric*:\n",
    " - *nominal* / categorical (e.g., color of a car which can be encoded as {'blue': 1, 'red': 2, 'green metalic': 3}; it cannot be stated that 1 is more similar to 2 than to 3)  \n",
    " - *ordinal* (e.g., rating for a movie; we can claim that rating 5 is better than 4, but cannot reason that the difference between movies rated as 4 and 5 is the same as the difference between movies rated as 2 and 3)\n",
    " - *interval* (e.g., temperatures in Fahrenheit; we can claim that +72 is warmer than +70, and we know that difference of 2 degrees has a clearly defined physical meaning)\n",
    " - *ratio* (e.g., distance; we can claim that 3 miles is twice as long as 1.5 miles)\n",
    "- *non-numeric* (very often text strings, but more generally links to objects)\n",
    "\n",
    "Sometimes, numerical attributes can be divided into dimensions and measures (e.g., dimension is time and measure is temperature at a given time). We will talk more about it when we cover Tableau software. \n",
    "\n",
    "## Visualization of tabular data \n",
    "In visualization, we either plot the raw data or some of its derivations (also called *statistics*). We will illustrate some standard visualization techniques on *Auto MPG data* from UCI Data Repository (this is also the data set used in `Lab2`): https://archive.ics.uci.edu/ml/datasets/auto+mpg. \n",
    "\n",
    "Before we start using python for EDA, let us open the dataset in Excel and try to understand what we are dealing with. If a dataset is tabular and relatively small, opening it first in Excel or some other spreadsheet processing software is usually a good practice.\n",
    "\n",
    "To prepare for visualization, let us import the needed libraries and load the *Auto MPG Data*"
   ]
  },
  {
   "cell_type": "code",
   "execution_count": null,
   "metadata": {},
   "outputs": [],
   "source": [
    "import pandas as pd\n",
    "import numpy as np\n",
    "import matplotlib.pyplot as plt\n",
    "# the following line allows ipython to display plots\n",
    "%matplotlib inline  \n",
    "\n",
    "#df = pd.read_csv('/Users/slobodan/documents/cis3715/data/cars.csv')  # df is DataFrame object\n",
    "df = pd.read_csv('cars.csv')  # df is DataFrame object\n",
    "print(df.head())    # see the first 5 rows of the loaded table"
   ]
  },
  {
   "cell_type": "markdown",
   "metadata": {},
   "source": [
    "### Exploring a single attribute\n",
    "\n",
    "Given a data set, we can decide to study each attribute separately. Depending on whether the attribute is categorical or numerical, there are slightly different options.\n",
    "\n",
    "**Exploring a categorical attribute**. \n",
    "\n",
    "- *Tabulation* allows us to count the frequency of each unique category. Pandas library offers a simple way to do it. The following line of code illustrates counting of the number of cylinders."
   ]
  },
  {
   "cell_type": "code",
   "execution_count": null,
   "metadata": {},
   "outputs": [],
   "source": [
    "print(df['Car'].value_counts())"
   ]
  },
  {
   "cell_type": "markdown",
   "metadata": {},
   "source": [
    "While `value_counts` method does the job, let us discuss the algorithmic details of tabulation. The following is a simple function that produces the same results as `value_counts`."
   ]
  },
  {
   "cell_type": "code",
   "execution_count": null,
   "metadata": {},
   "outputs": [],
   "source": [
    "def find_counts(x):\n",
    "    counts = {}\n",
    "    for element in x:\n",
    "        if element in counts:\n",
    "            counts[element] +=1\n",
    "        else:\n",
    "            counts[element] = 1\n",
    "    return counts"
   ]
  },
  {
   "cell_type": "markdown",
   "metadata": {},
   "source": [
    "Let us call `find_counts` using the same attribute"
   ]
  },
  {
   "cell_type": "code",
   "execution_count": null,
   "metadata": {},
   "outputs": [],
   "source": [
    "counts = find_counts(df['Origin'])\n",
    "print(counts)    # counts is a dictionary\n",
    "print(pd.DataFrame(sorted(counts.items())))  # we can covert it into dataframe"
   ]
  },
  {
   "cell_type": "markdown",
   "metadata": {},
   "source": [
    "`find_counts` is very versatile. Let us try it on different attribute types."
   ]
  },
  {
   "cell_type": "code",
   "execution_count": null,
   "metadata": {},
   "outputs": [],
   "source": [
    "x = np.random.randint(5,11,100)   # 100 random integers n range 5:11\n",
    "counts = find_counts(x)\n",
    "print(pd.DataFrame(sorted(counts.items())))\n",
    "print('\\n')\n",
    "\n",
    "x = 'asasdasffsdfsdfsddsdfsdasdasfdasdasdasdasd'   # a string\n",
    "counts = find_counts(x)\n",
    "print(pd.DataFrame(sorted(counts.items())))"
   ]
  },
  {
   "cell_type": "markdown",
   "metadata": {},
   "source": [
    "`find_counts` requires a for loop over the elements of the list `x`. Assuming the length of the list is $N$, the compuattional time is thus $O(N)$. The memory required to store the counts is proportional to the number of unique categories in `x`, $O(|x|)$. Thus, we can see that tabulation is a very cheap operation.\n",
    "\n",
    "- *Bar plot* is a very convenient way for visualizing the tabulated values"
   ]
  },
  {
   "cell_type": "code",
   "execution_count": null,
   "metadata": {},
   "outputs": [],
   "source": [
    "df['Origin'].value_counts().plot(kind = 'barh',figsize=(5, 2));"
   ]
  },
  {
   "cell_type": "markdown",
   "metadata": {},
   "source": [
    "- *Pie chart* is a popular alternative to the bar plot"
   ]
  },
  {
   "cell_type": "code",
   "execution_count": null,
   "metadata": {},
   "outputs": [],
   "source": [
    "df['Origin'].value_counts().plot(kind = 'pie',figsize=(4, 4));"
   ]
  },
  {
   "cell_type": "markdown",
   "metadata": {},
   "source": [
    "**Exploring a numerical attribute**.\n",
    "Numerical attributes could be studied with a richer set of tools. \n",
    "\n",
    "- *Line plot* displays all attribute values as consecutive points on a two-dimensional canvas. For example, if value of 76th example is 4, it will be ploted as a point at position (76,4) on the canvas.  "
   ]
  },
  {
   "cell_type": "code",
   "execution_count": null,
   "metadata": {},
   "outputs": [],
   "source": [
    "plt.figure(figsize=(5,2))\n",
    "plt.plot(df['Horsepower']);   # plots the values of the Horsepower attribute"
   ]
  },
  {
   "cell_type": "markdown",
   "metadata": {},
   "source": [
    "Line plots can be useful if rows in the data set are ordered based on some logical criteria (in the *Auto MPG data* examples are ordered by year).\n",
    "\n",
    "Any other display of a numerical attribute represents a summary derived from the data. \n",
    "\n",
    "- *Histogram* is similar to *Tabulation* -- it displays the frequency of attribute values within small intervals ranging from the minimum to the maximum value of the attribute. "
   ]
  },
  {
   "cell_type": "code",
   "execution_count": null,
   "metadata": {},
   "outputs": [],
   "source": [
    "plt.figure(figsize=(5,2))\n",
    "plt.hist(df['MPG'], bins=20) ;"
   ]
  },
  {
   "cell_type": "markdown",
   "metadata": {},
   "source": [
    "When using histograms, the number of bins is an important choice that can influence what kind of conclusions can be inferred. For example, from the shown histogram, it could be observed that there are almost 10 examples with MPG equal to zero. This is a very useful information that might indicate the presence of missing data in the data set.\n",
    "\n",
    "- *Boxplot* is a stylized version of a histogram"
   ]
  },
  {
   "cell_type": "code",
   "execution_count": null,
   "metadata": {},
   "outputs": [],
   "source": [
    "plt.figure(figsize=(5,2))\n",
    "plt.boxplot(df['MPG'], vert=False);"
   ]
  },
  {
   "cell_type": "markdown",
   "metadata": {},
   "source": [
    "The following image illustrates how boxplots are calculated.\n",
    "![Image of Yaktocat](http://www.mathbootcamps.com/wp-content/uploads/boxplot-with-outliers.jpg)\n",
    "\n",
    "To explain the terminology, let us assume we are given the values of attribute $X$, represented as an array $[X_i], i = 1...N$. Let us assume the array is sorted in the ascending order to create $X_s$. The *k-th percentile* is defined as the value at position $N*k$% within the sorted array. The *median* is the 50th percentile, the *first quartile* equals the 25th percentile and the *third quartile* equals the 75th percentile.\n",
    "\n",
    "Percentiles, quartiles, and median are examples of properties derived from data, called the *statistics*. The statistics are very useful and popular ways of summarizing properties of data that do not require plotting. The following are two other popular statistics for a numerical attribute.\n",
    "\n",
    "- *Mean* or *Average*: it is defined as the average value of the attribute\n",
    "- *Variance* and *standard deviation*: it represents how widely spread the attribute values are around its mean."
   ]
  },
  {
   "cell_type": "code",
   "execution_count": null,
   "metadata": {},
   "outputs": [],
   "source": [
    "print('Mean of Horsepower is:', np.mean(df['Horsepower']))\n",
    "print('and standard deviation is:', np.std(df['Horsepower']))\n",
    "print('Median is:', np.median(df['Horsepower']))"
   ]
  },
  {
   "cell_type": "markdown",
   "metadata": {},
   "source": [
    "### Exploring pairs of attributes\n",
    "Visualizing pairs of attributes can provide insights that are not possible by studying individual attributes. In particular, they could revel the *dependencies* or *correlations* between the attributes.\n",
    "\n",
    "**Pairs of numeric attributes**\n",
    "- *Scatterplots* are related to the line plots. They provide a view at the raw data by representing each example as a point on a 2-dimensional canvas. In particular, if the values of attributes $X_1$ and $X_2$ for 56th example are $(X_{56,1},X_{56,2}) = (3,2)$, then the point is plotted at location $(3,2)$ on the canvas."
   ]
  },
  {
   "cell_type": "code",
   "execution_count": null,
   "metadata": {},
   "outputs": [],
   "source": [
    "plt.figure(figsize=(5,3))\n",
    "plt.scatter(df['MPG'],df['Weight']);"
   ]
  },
  {
   "cell_type": "markdown",
   "metadata": {},
   "source": [
    "- *2D histogram*: for large data sets, the number of points in the plot can become extremely clutered, such that the scatterplot becomes just a pile of points plotted on top of each other. A popular way to address it is to plot a 2-dimensional histogram. Here, a range between the minimum and maximum for the 2 attributes is divided into a grid and the total number of examples belonging to each grid box is recorded and plotted with a heatmap."
   ]
  },
  {
   "cell_type": "code",
   "execution_count": null,
   "metadata": {},
   "outputs": [],
   "source": [
    "plt.figure(figsize=(6.5,3))\n",
    "plt.hist2d(df['MPG'],df['Weight'],[20,20]);\n",
    "plt.colorbar();"
   ]
  },
  {
   "cell_type": "code",
   "execution_count": null,
   "metadata": {},
   "outputs": [],
   "source": [
    "plt.figure(figsize=(5,3))\n",
    "plt.scatter(df['Model'],df['Cylinders']);"
   ]
  },
  {
   "cell_type": "code",
   "execution_count": null,
   "metadata": {},
   "outputs": [],
   "source": [
    "plt.figure(figsize=(5,3))\n",
    "plt.hist2d(df['Model'],df['Cylinders'],[20,20]);"
   ]
  },
  {
   "cell_type": "markdown",
   "metadata": {},
   "source": [
    "- *Correlation cefficient*: is a measure of relatedness between two numeric attributes. It ranges between $-1$ and $1$. Values close to 1 indicate that high value of one attribute implies high value of another attribute (*positive correlation*). Values close to $-1$ indicate that high value of one attribute implies low value of another attribute (*negative correlation*). Values around zero indicate that value of one attribute does not reveal much about another attribute. "
   ]
  },
  {
   "cell_type": "code",
   "execution_count": null,
   "metadata": {},
   "outputs": [],
   "source": [
    "print(np.corrcoef(df[['MPG','Weight']].T))\n",
    "print(np.corrcoef(df[['Horsepower','Weight']].T))"
   ]
  },
  {
   "cell_type": "markdown",
   "metadata": {},
   "source": [
    "**Pairs of categorical attributes**\n",
    "- *Cross tabs*: this is similar to 2D histograms. For each unique pair of attribute values the cross tabs are counting the number of examples with such values"
   ]
  },
  {
   "cell_type": "code",
   "execution_count": null,
   "metadata": {},
   "outputs": [],
   "source": [
    "pd.crosstab(df['Model'],df['Origin'])"
   ]
  },
  {
   "cell_type": "markdown",
   "metadata": {},
   "source": [
    "**Pairs of mixed attributes**\n",
    "- *Pivot tables*: when we are given one categorical and one numeric attribute, aggregated views of the numeric attribte are possible. In particular, for each categorical value, pivot tables are showing some statistic of the numeric variable. The following link provides a very nice explanation of table pivoting, please read it: http://nikgrozev.com/2015/07/01/reshaping-in-pandas-pivot-pivot-table-stack-and-unstack-explained-with-pictures/"
   ]
  },
  {
   "cell_type": "code",
   "execution_count": null,
   "metadata": {},
   "outputs": [],
   "source": [
    "df.pivot_table(values=[\"Horsepower\"], \n",
    "               index=[\"Origin\"]).transpose()"
   ]
  },
  {
   "cell_type": "markdown",
   "metadata": {},
   "source": [
    "- *Multiple boxplots*: For each category of one attribute we can plot a boxplot for another attribute"
   ]
  },
  {
   "cell_type": "code",
   "execution_count": null,
   "metadata": {},
   "outputs": [],
   "source": [
    "df.boxplot(column='MPG',by='Model');"
   ]
  },
  {
   "cell_type": "markdown",
   "metadata": {},
   "source": [
    "### Exploring more than 2 attributes\n",
    "Ability to visualize more than 2 attributes on a same plot could potentially provide an even better insight than looking at a single attribute or a pair of attributes. This task is very challenging, but there are several popular ways of visualizing such data.\n",
    "- *Annotated scatterplots*: using size, collor, and shape to visualize the 3rd, the 4th, and even the 5th attribute."
   ]
  },
  {
   "cell_type": "code",
   "execution_count": null,
   "metadata": {},
   "outputs": [],
   "source": [
    "plt.figure(figsize=(6.5,3))\n",
    "#plt.scatter(df['MPG'],df['Weight'],df['Cylinders']*10,df['Horsepower']);\n",
    "plt.scatter(df['MPG'],df['Weight'],df['Cylinders']*10,df['Horsepower'],alpha=0.5,edgecolors='none');\n",
    "plt.xlabel('MPG')\n",
    "plt.ylabel('Weight')\n",
    "plt.colorbar();\n",
    "# Cylinders are represented by size and Horepower by color"
   ]
  },
  {
   "cell_type": "markdown",
   "metadata": {},
   "source": [
    "- *Small multiples*: showing multiple 2-attribute plots next to each other"
   ]
  },
  {
   "cell_type": "code",
   "execution_count": null,
   "metadata": {},
   "outputs": [],
   "source": [
    "pd.plotting.scatter_matrix(df);"
   ]
  },
  {
   "cell_type": "markdown",
   "metadata": {},
   "source": [
    "- *Heatmaps* of the raw data. See this very nice demonstration: http://stackoverflow.com/questions/14391959/heatmap-in-matplotlib-with-pcolor"
   ]
  },
  {
   "cell_type": "markdown",
   "metadata": {},
   "source": [
    "- *Crosstabs*"
   ]
  },
  {
   "cell_type": "code",
   "execution_count": null,
   "metadata": {},
   "outputs": [],
   "source": [
    "print(pd.crosstab([df['Model'],df['Cylinders']],df['Origin']))\n",
    "print(pd.crosstab(df['Model'],[df['Origin'],df['Cylinders']]))"
   ]
  },
  {
   "cell_type": "markdown",
   "metadata": {},
   "source": [
    "- *Pivot tables*"
   ]
  },
  {
   "cell_type": "code",
   "execution_count": null,
   "metadata": {},
   "outputs": [],
   "source": [
    "df.pivot_table(values=[\"MPG\",\"Cylinders\"], \n",
    "               index=[\"Model\",\"Origin\"], aggfunc=np.mean)"
   ]
  },
  {
   "cell_type": "markdown",
   "metadata": {},
   "source": [
    "- *Parallel coordinates*: see http://www.juiceanalytics.com/writing/writing/parallel-coordinates\n",
    "- *Dimensionality reduction*: representing multi-dimensional examples as 2-dimensional points. Requires knowledge of matrix algebra. See this nice examples:\n",
    " - http://blog.conceptnet.io/posts/2016/an-introduction-to-the-conceptnet-vector-ensemble/\n",
    " - https://cs.wmich.edu/~yang/research/dembed/\n",
    " - http://everynoise.com/engenremap.html"
   ]
  },
  {
   "cell_type": "markdown",
   "metadata": {},
   "source": [
    "## Data transformations and cleaning\n",
    "Sometimes, histograms of attributes could look strange. In this case, it is worth inspecting such attributes more in depth.\n",
    "\n",
    "The following attribute is generated to come from the so-called exponential distribution: the most vales are very small and very few values are very large."
   ]
  },
  {
   "cell_type": "code",
   "execution_count": null,
   "metadata": {},
   "outputs": [],
   "source": [
    "plt.figure(figsize=(5,2))\n",
    "x=10**np.random.randn(2000, 1) \n",
    "plt.hist(x,20);"
   ]
  },
  {
   "cell_type": "markdown",
   "metadata": {},
   "source": [
    "Strange... let us try with more bins..."
   ]
  },
  {
   "cell_type": "code",
   "execution_count": null,
   "metadata": {},
   "outputs": [],
   "source": [
    "plt.figure(figsize=(5,2))\n",
    "plt.hist(x,200);"
   ]
  },
  {
   "cell_type": "markdown",
   "metadata": {},
   "source": [
    "It might be worthwhile to consider showing the x-axis in the log scale."
   ]
  },
  {
   "cell_type": "code",
   "execution_count": null,
   "metadata": {},
   "outputs": [],
   "source": [
    "plt.figure(figsize=(5,2))\n",
    "plt.hist(x,bins = 20,log=True);"
   ]
  },
  {
   "cell_type": "markdown",
   "metadata": {},
   "source": [
    "An even better idea might be to show the x-axis in the log-scale (although, it requires some fancy python code -- I copied it from, you guessed it, Stack Overflow)  "
   ]
  },
  {
   "cell_type": "code",
   "execution_count": null,
   "metadata": {},
   "outputs": [],
   "source": [
    "plt.figure(figsize=(5,2))\n",
    "plt.hist(x,bins = 10 ** np.linspace(np.log10(np.min(x)), np.log10(np.max(x)), 50),log=False);\n",
    "plt.gca().set_xscale(\"log\")"
   ]
  },
  {
   "cell_type": "markdown",
   "metadata": {},
   "source": [
    "## Tableau: Software for data visualization\n",
    "Tableau Public (https://public.tableau.com/s/) is a free software that allows users to create interactive data visualizations on the web. Types of plots are similar to the ones we have seen above. Tableau largely relies on the pivoting operations, similar to the pivot_table method in pandas. To accomplish it, Tableau distinguishes between dimensions (which are equivalent to \"index\" and \"columns\" parameters in pivot_table) and measures (which are equivalent to \"values\" in pivot table).\n",
    "\n",
    "Some nice examples of what Tableau Public users created are:\n",
    "- https://public.tableau.com/en-us/s/gallery/malaria-africa\n",
    "- https://public.tableau.com/en-us/s/gallery/life-expectancy-country\n",
    "- https://public.tableau.com/en-us/s/gallery/airbnb-prices-san-francisco\n",
    "- "
   ]
  }
 ],
 "metadata": {
  "anaconda-cloud": {},
  "kernelspec": {
   "display_name": "Python 3",
   "language": "python",
   "name": "python3"
  },
  "language_info": {
   "codemirror_mode": {
    "name": "ipython",
    "version": 3
   },
   "file_extension": ".py",
   "mimetype": "text/x-python",
   "name": "python",
   "nbconvert_exporter": "python",
   "pygments_lexer": "ipython3",
   "version": "3.6.7"
  }
 },
 "nbformat": 4,
 "nbformat_minor": 1
}
